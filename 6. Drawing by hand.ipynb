{
  "nbformat": 4,
  "nbformat_minor": 0,
  "metadata": {
    "colab": {
      "provenance": [],
      "authorship_tag": "ABX9TyNvDYbXnkwUjpw9yy/x3iOm",
      "include_colab_link": true
    },
    "kernelspec": {
      "name": "python3",
      "display_name": "Python 3"
    },
    "language_info": {
      "name": "python"
    }
  },
  "cells": [
    {
      "cell_type": "markdown",
      "metadata": {
        "id": "view-in-github",
        "colab_type": "text"
      },
      "source": [
        "<a href=\"https://colab.research.google.com/github/Mahdi-Saadati/Artificial-Intelligence-and-Machine-Vision-and-Image-Processing/blob/main/6.%20Drawing%20by%20hand.ipynb\" target=\"_parent\"><img src=\"https://colab.research.google.com/assets/colab-badge.svg\" alt=\"Open In Colab\"/></a>"
      ]
    },
    {
      "cell_type": "markdown",
      "source": [
        "<div dir=\"rtl\" align=\"right\">\n",
        "نقاشی با حرکت دست"
      ],
      "metadata": {
        "id": "hZrWzh0BrukD"
      }
    },
    {
      "cell_type": "code",
      "source": [
        "import cv2  # کتابخانه کار با دوربین\n",
        "import mediapipe as mp  # کتابخانه تشخیص دست\n",
        "import numpy as np  # برای کار با آرایه‌ها و صفحه نقاشی\n",
        "\n",
        "mpHands = mp.solutions.hands  # بخش تشخیص دست\n",
        "hands = mpHands.Hands()  # مدل تشخیص دست\n",
        "mpDraw = mp.solutions.drawing_utils  # برای کشیدن نقاط دست\n",
        "\n",
        "cam = cv2.VideoCapture(0)  # روشن کردن وبکم\n",
        "\n",
        "canvas = None  # جایی برای ذخیره نقاشی‌ها\n",
        "\n",
        "while True:\n",
        "    success, img = cam.read()  # گرفتن تصویر از وبکم\n",
        "    if not success:\n",
        "        break\n",
        "\n",
        "    img = cv2.flip(img, 1)  # برعکس کردن تصویر (مثل آینه)\n",
        "    if canvas is None:\n",
        "        canvas = np.zeros_like(img)  # صفحه سیاه برای نقاشی\n",
        "\n",
        "    imgRGB = cv2.cvtColor(img, cv2.COLOR_BGR2RGB)  # تغییر رنگ برای mediapipe\n",
        "    results = hands.process(imgRGB)  # پردازش تصویر و پیدا کردن دست\n",
        "\n",
        "    if results.multi_hand_landmarks:  # اگر دست پیدا شد\n",
        "        for handLms in results.multi_hand_landmarks:\n",
        "            mpDraw.draw_landmarks(img, handLms, mpHands.HAND_CONNECTIONS)  # کشیدن دست\n",
        "\n",
        "            # گرفتن نقطه نوک انگشت اشاره (شماره 8)\n",
        "            h, w, c = img.shape\n",
        "            x = int(handLms.landmark[8].x * w)\n",
        "            y = int(handLms.landmark[8].y * h)\n",
        "\n",
        "            cv2.circle(canvas, (x, y), 8, (0, 0, 255), -1)  # کشیدن دایره قرمز روی صفحه نقاشی\n",
        "\n",
        "    # ترکیب صفحه نقاشی با تصویر اصلی\n",
        "    img = cv2.addWeighted(img, 1, canvas, 0.5, 0)\n",
        "\n",
        "    cv2.imshow(\"نقاشی با دست\", img)  # نمایش تصویر\n",
        "    cv2.imshow(\"Canvas\", canvas)  # نمایش نقاشی جداگانه\n",
        "\n",
        "    if cv2.waitKey(1) & 0xFF == ord('q'):  # خروج با زدن q\n",
        "        break\n",
        "\n",
        "cam.release()\n",
        "cv2.destroyAllWindows()\n"
      ],
      "metadata": {
        "id": "NLWU9QYesTXc"
      },
      "execution_count": null,
      "outputs": []
    }
  ]
}