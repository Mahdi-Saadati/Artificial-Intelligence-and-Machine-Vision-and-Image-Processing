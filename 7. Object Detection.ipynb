{
  "nbformat": 4,
  "nbformat_minor": 0,
  "metadata": {
    "colab": {
      "provenance": [],
      "authorship_tag": "ABX9TyOxFX4/8YI75W9i4HOt610D",
      "include_colab_link": true
    },
    "kernelspec": {
      "name": "python3",
      "display_name": "Python 3"
    },
    "language_info": {
      "name": "python"
    }
  },
  "cells": [
    {
      "cell_type": "markdown",
      "metadata": {
        "id": "view-in-github",
        "colab_type": "text"
      },
      "source": [
        "<a href=\"https://colab.research.google.com/github/Mahdi-Saadati/Artificial-Intelligence-and-Machine-Vision-and-Image-Processing/blob/main/7.%20Object%20Detection.ipynb\" target=\"_parent\"><img src=\"https://colab.research.google.com/assets/colab-badge.svg\" alt=\"Open In Colab\"/></a>"
      ]
    },
    {
      "cell_type": "markdown",
      "source": [
        "<div dir=\"rtl\" align=\"right\">\n",
        "\n",
        "\n",
        "🚦 الگوریتم  YOLO (You Only Look Once)\n",
        "\n",
        "  \n",
        "YOLO یک الگوریتم تشخیص اشیاء (Object Detection) است.\n",
        "این یعنی کامپیوتر می‌تواند با دیدن یک عکس یا ویدئو، بفهمد چه شیءهایی داخل تصویر هستند و دور آن‌ها یک جعبه (Box) بکشد.\n",
        "\n",
        "به زبان خیلی ساده:\n",
        "\n",
        "🔍 YOLO مثل چشم انسان است که وقتی به یک صحنه نگاه می‌کند، همزمان می‌فهمد \"چه چیزی\" و \"کجاست\".\n",
        "\n",
        "🛠️ چطور کار می‌کند؟\n",
        "\n",
        "YOLO کل تصویر را یک‌باره (Once) نگاه می‌کند (نه تکه‌تکه).\n",
        "\n",
        "تصویر را به خانه‌های کوچک (Grid) تقسیم می‌کند.\n",
        "\n",
        "هر خانه حدس می‌زند که آیا یک شیء داخلش هست یا نه.\n",
        "\n",
        "اگر هست، نوع آن شیء (مثل گربه، ماشین، انسان…) و مکان دقیق آن (با یک جعبه) را می‌گوید.\n",
        "\n",
        "به همین دلیل اسمش شده:\n",
        "👉 You Only Look Once = فقط یک بار نگاه کن!\n",
        "\n",
        "🎯 چرا YOLO خاص است؟\n",
        "\n",
        "خیلی سریع است (برای ویدئو و دوربین زنده عالی است).\n",
        "\n",
        "همزمان تشخیص می‌دهد چه چیزی و کجاست.\n",
        "\n",
        "در خیلی از کاربردهای روزمره از آن استفاده می‌شود.\n",
        "\n",
        "📌 کاربردهای YOLO\n",
        "\n",
        "ماشین‌های خودران 🚗 → تشخیص عابر پیاده، چراغ قرمز، خودروهای دیگر.\n",
        "\n",
        "امنیت و نظارت 📹 → شناسایی افراد، چهره‌ها یا اشیاء خطرناک در دوربین‌ها.\n",
        "\n",
        "پزشکی 🏥 → پیدا کردن تومور یا اعضای بدن در عکس‌های پزشکی.\n",
        "\n",
        "کشاورزی هوشمند 🌱 → تشخیص گیاهان، میوه‌ها یا آفات.\n",
        "\n",
        "روباتیک 🤖 → کمک به ربات‌ها برای دیدن محیط و تعامل با اشیاء.\n",
        "\n",
        "فروشگاه‌ها 🛒 → شمارش مشتریان یا بررسی قفسه‌ها.\n",
        "\n",
        "🔑 خلاصه:\n",
        "YOLO مثل یک چشم هوشمند سریع است که با یک نگاه می‌تواند بگوید:\n",
        "\n",
        "\"اینجا یک گربه است 🐱\"\n",
        "\n",
        "\"اونجا یک ماشین است 🚘\"\n",
        "\n",
        "\"اینجا یک انسان ایستاده 👩‍🦰\""
      ],
      "metadata": {
        "id": "hZrWzh0BrukD"
      }
    },
    {
      "cell_type": "code",
      "source": [
        "# نصب YOLO (فقط یکبار لازم است)\n",
        "# !pip install ultralytics opencv-python\n",
        "\n",
        "from ultralytics import YOLO\n",
        "import cv2\n",
        "\n",
        "# بارگذاری مدل آماده YOLOv8\n",
        "model = YOLO(\"yolov8n.pt\")   # نسخه سبک و سریع\n",
        "\n",
        "# باز کردن وبکم (0 = وبکم پیش‌فرض)\n",
        "cap = cv2.VideoCapture(0)\n",
        "\n",
        "while True:\n",
        "    ret, frame = cap.read()   # خواندن یک فریم از وبکم\n",
        "    frame = cv2.flip(frame, 1)  # برعکس کردن تصویر مثل آینه (راحت‌تر برای کاربر)\n",
        "    if not ret:\n",
        "        break\n",
        "\n",
        "    # اجرای YOLO روی فریم\n",
        "    results = model(frame)\n",
        "\n",
        "    # رسم جعبه‌ها و نام اشیاء روی تصویر\n",
        "    annotated_frame = results[0].plot()\n",
        "\n",
        "    # نمایش تصویر\n",
        "    cv2.imshow(\"YOLO - Object Detection\", annotated_frame)\n",
        "\n",
        "    # اگر کلید Q زده شد، از برنامه خارج شو\n",
        "    if cv2.waitKey(1) & 0xFF == ord(\"q\"):\n",
        "        break\n",
        "\n",
        "# آزاد کردن منابع\n",
        "cap.release()\n",
        "cv2.destroyAllWindows()\n"
      ],
      "metadata": {
        "id": "NLWU9QYesTXc"
      },
      "execution_count": null,
      "outputs": []
    }
  ]
}